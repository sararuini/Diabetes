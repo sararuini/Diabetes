{
 "cells": [
  {
   "cell_type": "code",
   "execution_count": 1,
   "metadata": {},
   "outputs": [],
   "source": [
    "#libraries needed\n",
    "import pandas as pd\n",
    "import numpy as np\n",
    "import matplotlib.pyplot as plt\n",
    "\n",
    "#scikit\n",
    "from sklearn.model_selection import train_test_split\n",
    "from sklearn.neighbors import KNeighborsClassifier\n",
    "from sklearn.model_selection import cross_val_score\n",
    "from sklearn import preprocessing\n",
    "from sklearn import metrics"
   ]
  },
  {
   "cell_type": "code",
   "execution_count": 2,
   "metadata": {},
   "outputs": [],
   "source": [
    "df = pd.read_csv(\"cleaned_data_v5.csv\", encoding=\"Latin-1\")"
   ]
  },
  {
   "cell_type": "code",
   "execution_count": 3,
   "metadata": {},
   "outputs": [
    {
     "data": {
      "text/plain": [
       "(99492, 38)"
      ]
     },
     "execution_count": 3,
     "metadata": {},
     "output_type": "execute_result"
    }
   ],
   "source": [
    "df.shape"
   ]
  },
  {
   "cell_type": "code",
   "execution_count": 4,
   "metadata": {},
   "outputs": [
    {
     "data": {
      "text/plain": [
       "Index(['Unnamed: 0', 'race', 'gender', 'age', 'days_in_hospital',\n",
       "       'num_lab_procedures', 'num_not_lab_procedures',\n",
       "       'num_current_medications', 'num_outpatient_appointments',\n",
       "       'num_previous_emergencies', 'num_inpatient_overnight_stays',\n",
       "       'number_diagnoses', 'metformin', 'repaglinide', 'nateglinide',\n",
       "       'chlorpropamide', 'glimepiride', 'acetohexamide', 'glipizide',\n",
       "       'glyburide', 'tolbutamide', 'pioglitazone', 'rosiglitazone', 'acarbose',\n",
       "       'miglitol', 'troglitazone', 'tolazamide', 'examide', 'citoglipton',\n",
       "       'insulin', 'glyburide-metformin', 'glipizide-metformin',\n",
       "       'glimepiride-pioglitazone', 'metformin-rosiglitazone',\n",
       "       'metformin-pioglitazone', 'change_in_meds', 'diabates_med_prescribed',\n",
       "       'readmitted'],\n",
       "      dtype='object')"
      ]
     },
     "execution_count": 4,
     "metadata": {},
     "output_type": "execute_result"
    }
   ],
   "source": [
    "df.columns"
   ]
  },
  {
   "cell_type": "code",
   "execution_count": 5,
   "metadata": {},
   "outputs": [],
   "source": [
    "df = df.drop(['Unnamed: 0'], axis=1)"
   ]
  },
  {
   "cell_type": "code",
   "execution_count": 6,
   "metadata": {},
   "outputs": [],
   "source": [
    "list_of_meds = ['metformin',\n",
    "       'repaglinide', 'nateglinide', 'chlorpropamide', 'glimepiride',\n",
    "       'acetohexamide', 'glipizide', 'glyburide', 'tolbutamide',\n",
    "       'pioglitazone', 'rosiglitazone', 'acarbose', 'miglitol', 'troglitazone',\n",
    "       'tolazamide', 'examide', 'citoglipton', 'insulin',\n",
    "       'glyburide-metformin', 'glipizide-metformin',\n",
    "       'glimepiride-pioglitazone', 'metformin-rosiglitazone',\n",
    "       'metformin-pioglitazone']\n",
    "\n",
    "# renaming values in medicines\n",
    "# change in dosage('dosage_increased', 'dosage_decreased') -> 1\n",
    "# no change or not prescribed 'not_prescribed', no_change_dosage -> 0\n",
    "new_values_meds = {\"dosage_increased\":3, \"dosage_decreased\":1 ,\"no_change_dosage\":2, \"not_prescribed\":0}\n",
    "for medicine in list_of_meds:\n",
    "    df[medicine] = df[medicine].replace(new_values_meds)"
   ]
  },
  {
   "cell_type": "code",
   "execution_count": 7,
   "metadata": {},
   "outputs": [],
   "source": [
    "# renaming 'readmitted'\n",
    "# readmitted ('>30', '<30') -> 1\n",
    "# not readmitted  ('NO') -> 0\n",
    "df.readmitted = df.readmitted.replace({'NO': 0, '>30': 2, '<30':1})"
   ]
  },
  {
   "cell_type": "code",
   "execution_count": 8,
   "metadata": {},
   "outputs": [],
   "source": [
    "# renaming 'diabetes_med_prescribed'\n",
    "# 'Yes' -> 1 \n",
    "# 'No' -> 0\n",
    "df = df.rename(columns={'diabates_med_prescribed': 'diabetes_med_prescribed'})\n",
    "df.diabetes_med_prescribed = df.diabetes_med_prescribed.replace({'Yes': 1, 'No':0})"
   ]
  },
  {
   "cell_type": "code",
   "execution_count": 9,
   "metadata": {},
   "outputs": [],
   "source": [
    "# renaming 'change_in_meds'\n",
    "# 'Ch' -> 1\n",
    "# 'No' -> 0\n",
    "df.change_in_meds = df.change_in_meds.replace({'Ch': 1, 'No': 0})"
   ]
  },
  {
   "cell_type": "code",
   "execution_count": 10,
   "metadata": {},
   "outputs": [],
   "source": [
    "#renaming 'age'\n",
    "#[70-80) -> 70\n",
    "#[60-70) -> 60\n",
    "#[50-60) -> 90\n",
    "#[80-90) -> 80\n",
    "#[40-50) -> 40\n",
    "#[30-40) -> 30\n",
    "#[90-100) -> 90\n",
    "#[20-30) -> 20\n",
    "#[10-20) -> 10\n",
    "#[0-10)-> 0\n",
    "age_mapping = {'[70-80)': 70, '[60-70)': 60, '[50-60)':90, '[80-90)':80, '[40-50)': 40, '[30-40)': 30,'[90-100)': 90, '[20-30)': 20, '[10-20)': 10, '[0-10)': 0}\n",
    "df.age = df.age.replace(age_mapping)"
   ]
  },
  {
   "cell_type": "code",
   "execution_count": 11,
   "metadata": {},
   "outputs": [
    {
     "name": "stdout",
     "output_type": "stream",
     "text": [
      "Caucasian          76099\n",
      "AfricanAmerican    19210\n",
      "Hispanic            2037\n",
      "Other               1505\n",
      "Asian                641\n",
      "Name: race, dtype: int64\n",
      "Female    53575\n",
      "Male      45917\n",
      "Name: gender, dtype: int64\n"
     ]
    }
   ],
   "source": [
    "#before\n",
    "print(df.race.value_counts())\n",
    "print(df.gender.value_counts())"
   ]
  },
  {
   "cell_type": "raw",
   "metadata": {},
   "source": [
    "Using LabelEncoder to change string values in order to not assign any numerical values to certain categorical values, where integers do not represent the categories appropriately."
   ]
  },
  {
   "cell_type": "code",
   "execution_count": 12,
   "metadata": {},
   "outputs": [
    {
     "data": {
      "text/html": [
       "<div>\n",
       "<style scoped>\n",
       "    .dataframe tbody tr th:only-of-type {\n",
       "        vertical-align: middle;\n",
       "    }\n",
       "\n",
       "    .dataframe tbody tr th {\n",
       "        vertical-align: top;\n",
       "    }\n",
       "\n",
       "    .dataframe thead th {\n",
       "        text-align: right;\n",
       "    }\n",
       "</style>\n",
       "<table border=\"1\" class=\"dataframe\">\n",
       "  <thead>\n",
       "    <tr style=\"text-align: right;\">\n",
       "      <th></th>\n",
       "      <th>race</th>\n",
       "      <th>gender</th>\n",
       "      <th>age</th>\n",
       "      <th>days_in_hospital</th>\n",
       "      <th>num_lab_procedures</th>\n",
       "      <th>num_not_lab_procedures</th>\n",
       "      <th>num_current_medications</th>\n",
       "      <th>num_outpatient_appointments</th>\n",
       "      <th>num_previous_emergencies</th>\n",
       "      <th>num_inpatient_overnight_stays</th>\n",
       "      <th>...</th>\n",
       "      <th>citoglipton</th>\n",
       "      <th>insulin</th>\n",
       "      <th>glyburide-metformin</th>\n",
       "      <th>glipizide-metformin</th>\n",
       "      <th>glimepiride-pioglitazone</th>\n",
       "      <th>metformin-rosiglitazone</th>\n",
       "      <th>metformin-pioglitazone</th>\n",
       "      <th>change_in_meds</th>\n",
       "      <th>diabetes_med_prescribed</th>\n",
       "      <th>readmitted</th>\n",
       "    </tr>\n",
       "  </thead>\n",
       "  <tbody>\n",
       "    <tr>\n",
       "      <th>0</th>\n",
       "      <td>Caucasian</td>\n",
       "      <td>Female</td>\n",
       "      <td>0</td>\n",
       "      <td>1</td>\n",
       "      <td>41</td>\n",
       "      <td>0</td>\n",
       "      <td>1</td>\n",
       "      <td>0</td>\n",
       "      <td>0</td>\n",
       "      <td>0</td>\n",
       "      <td>...</td>\n",
       "      <td>0</td>\n",
       "      <td>0</td>\n",
       "      <td>0</td>\n",
       "      <td>0</td>\n",
       "      <td>0</td>\n",
       "      <td>0</td>\n",
       "      <td>0</td>\n",
       "      <td>0</td>\n",
       "      <td>0</td>\n",
       "      <td>0</td>\n",
       "    </tr>\n",
       "    <tr>\n",
       "      <th>1</th>\n",
       "      <td>Caucasian</td>\n",
       "      <td>Female</td>\n",
       "      <td>10</td>\n",
       "      <td>3</td>\n",
       "      <td>59</td>\n",
       "      <td>0</td>\n",
       "      <td>18</td>\n",
       "      <td>0</td>\n",
       "      <td>0</td>\n",
       "      <td>0</td>\n",
       "      <td>...</td>\n",
       "      <td>0</td>\n",
       "      <td>3</td>\n",
       "      <td>0</td>\n",
       "      <td>0</td>\n",
       "      <td>0</td>\n",
       "      <td>0</td>\n",
       "      <td>0</td>\n",
       "      <td>1</td>\n",
       "      <td>1</td>\n",
       "      <td>2</td>\n",
       "    </tr>\n",
       "    <tr>\n",
       "      <th>2</th>\n",
       "      <td>AfricanAmerican</td>\n",
       "      <td>Female</td>\n",
       "      <td>20</td>\n",
       "      <td>2</td>\n",
       "      <td>11</td>\n",
       "      <td>5</td>\n",
       "      <td>13</td>\n",
       "      <td>2</td>\n",
       "      <td>0</td>\n",
       "      <td>1</td>\n",
       "      <td>...</td>\n",
       "      <td>0</td>\n",
       "      <td>0</td>\n",
       "      <td>0</td>\n",
       "      <td>0</td>\n",
       "      <td>0</td>\n",
       "      <td>0</td>\n",
       "      <td>0</td>\n",
       "      <td>0</td>\n",
       "      <td>1</td>\n",
       "      <td>0</td>\n",
       "    </tr>\n",
       "    <tr>\n",
       "      <th>3</th>\n",
       "      <td>Caucasian</td>\n",
       "      <td>Male</td>\n",
       "      <td>30</td>\n",
       "      <td>2</td>\n",
       "      <td>44</td>\n",
       "      <td>1</td>\n",
       "      <td>16</td>\n",
       "      <td>0</td>\n",
       "      <td>0</td>\n",
       "      <td>0</td>\n",
       "      <td>...</td>\n",
       "      <td>0</td>\n",
       "      <td>3</td>\n",
       "      <td>0</td>\n",
       "      <td>0</td>\n",
       "      <td>0</td>\n",
       "      <td>0</td>\n",
       "      <td>0</td>\n",
       "      <td>1</td>\n",
       "      <td>1</td>\n",
       "      <td>0</td>\n",
       "    </tr>\n",
       "    <tr>\n",
       "      <th>4</th>\n",
       "      <td>Caucasian</td>\n",
       "      <td>Male</td>\n",
       "      <td>40</td>\n",
       "      <td>1</td>\n",
       "      <td>51</td>\n",
       "      <td>0</td>\n",
       "      <td>8</td>\n",
       "      <td>0</td>\n",
       "      <td>0</td>\n",
       "      <td>0</td>\n",
       "      <td>...</td>\n",
       "      <td>0</td>\n",
       "      <td>2</td>\n",
       "      <td>0</td>\n",
       "      <td>0</td>\n",
       "      <td>0</td>\n",
       "      <td>0</td>\n",
       "      <td>0</td>\n",
       "      <td>1</td>\n",
       "      <td>1</td>\n",
       "      <td>0</td>\n",
       "    </tr>\n",
       "  </tbody>\n",
       "</table>\n",
       "<p>5 rows × 37 columns</p>\n",
       "</div>"
      ],
      "text/plain": [
       "              race  gender  age  days_in_hospital  num_lab_procedures  \\\n",
       "0        Caucasian  Female    0                 1                  41   \n",
       "1        Caucasian  Female   10                 3                  59   \n",
       "2  AfricanAmerican  Female   20                 2                  11   \n",
       "3        Caucasian    Male   30                 2                  44   \n",
       "4        Caucasian    Male   40                 1                  51   \n",
       "\n",
       "   num_not_lab_procedures  num_current_medications  \\\n",
       "0                       0                        1   \n",
       "1                       0                       18   \n",
       "2                       5                       13   \n",
       "3                       1                       16   \n",
       "4                       0                        8   \n",
       "\n",
       "   num_outpatient_appointments  num_previous_emergencies  \\\n",
       "0                            0                         0   \n",
       "1                            0                         0   \n",
       "2                            2                         0   \n",
       "3                            0                         0   \n",
       "4                            0                         0   \n",
       "\n",
       "   num_inpatient_overnight_stays  ...  citoglipton  insulin  \\\n",
       "0                              0  ...            0        0   \n",
       "1                              0  ...            0        3   \n",
       "2                              1  ...            0        0   \n",
       "3                              0  ...            0        3   \n",
       "4                              0  ...            0        2   \n",
       "\n",
       "   glyburide-metformin  glipizide-metformin  glimepiride-pioglitazone  \\\n",
       "0                    0                    0                         0   \n",
       "1                    0                    0                         0   \n",
       "2                    0                    0                         0   \n",
       "3                    0                    0                         0   \n",
       "4                    0                    0                         0   \n",
       "\n",
       "   metformin-rosiglitazone  metformin-pioglitazone  change_in_meds  \\\n",
       "0                        0                       0               0   \n",
       "1                        0                       0               1   \n",
       "2                        0                       0               0   \n",
       "3                        0                       0               1   \n",
       "4                        0                       0               1   \n",
       "\n",
       "   diabetes_med_prescribed  readmitted  \n",
       "0                        0           0  \n",
       "1                        1           2  \n",
       "2                        1           0  \n",
       "3                        1           0  \n",
       "4                        1           0  \n",
       "\n",
       "[5 rows x 37 columns]"
      ]
     },
     "execution_count": 12,
     "metadata": {},
     "output_type": "execute_result"
    }
   ],
   "source": [
    "#before\n",
    "df.head()"
   ]
  },
  {
   "cell_type": "code",
   "execution_count": 13,
   "metadata": {},
   "outputs": [],
   "source": [
    "x = df.columns.values\n",
    "le_gender = preprocessing.LabelEncoder()\n",
    "le_race = preprocessing.LabelEncoder()\n",
    "x_gender = le_gender.fit_transform(df.gender.values)\n",
    "x_race = le_race.fit_transform(df.race.values)\n",
    "df['gender'] = x_gender\n",
    "df['race'] = x_race"
   ]
  },
  {
   "cell_type": "code",
   "execution_count": 14,
   "metadata": {},
   "outputs": [
    {
     "name": "stdout",
     "output_type": "stream",
     "text": [
      "0    53575\n",
      "1    45917\n",
      "Name: gender, dtype: int64\n",
      "2    76099\n",
      "0    19210\n",
      "3     2037\n",
      "4     1505\n",
      "1      641\n",
      "Name: race, dtype: int64\n"
     ]
    }
   ],
   "source": [
    "#after\n",
    "print(df.gender.value_counts())\n",
    "print(df.race.value_counts())"
   ]
  },
  {
   "cell_type": "markdown",
   "metadata": {},
   "source": [
    "We can deduct that:\n",
    "In race: Caucasian = 2, AfricanAmerican = 0, Hispanic = 3, Other = 4, 1 = Asian\n",
    "In gender: Female = 0, Male = 1"
   ]
  },
  {
   "cell_type": "code",
   "execution_count": 15,
   "metadata": {},
   "outputs": [
    {
     "data": {
      "text/html": [
       "<div>\n",
       "<style scoped>\n",
       "    .dataframe tbody tr th:only-of-type {\n",
       "        vertical-align: middle;\n",
       "    }\n",
       "\n",
       "    .dataframe tbody tr th {\n",
       "        vertical-align: top;\n",
       "    }\n",
       "\n",
       "    .dataframe thead th {\n",
       "        text-align: right;\n",
       "    }\n",
       "</style>\n",
       "<table border=\"1\" class=\"dataframe\">\n",
       "  <thead>\n",
       "    <tr style=\"text-align: right;\">\n",
       "      <th></th>\n",
       "      <th>race</th>\n",
       "      <th>gender</th>\n",
       "      <th>age</th>\n",
       "      <th>days_in_hospital</th>\n",
       "      <th>num_lab_procedures</th>\n",
       "      <th>num_not_lab_procedures</th>\n",
       "      <th>num_current_medications</th>\n",
       "      <th>num_outpatient_appointments</th>\n",
       "      <th>num_previous_emergencies</th>\n",
       "      <th>num_inpatient_overnight_stays</th>\n",
       "      <th>...</th>\n",
       "      <th>citoglipton</th>\n",
       "      <th>insulin</th>\n",
       "      <th>glyburide-metformin</th>\n",
       "      <th>glipizide-metformin</th>\n",
       "      <th>glimepiride-pioglitazone</th>\n",
       "      <th>metformin-rosiglitazone</th>\n",
       "      <th>metformin-pioglitazone</th>\n",
       "      <th>change_in_meds</th>\n",
       "      <th>diabetes_med_prescribed</th>\n",
       "      <th>readmitted</th>\n",
       "    </tr>\n",
       "  </thead>\n",
       "  <tbody>\n",
       "    <tr>\n",
       "      <th>0</th>\n",
       "      <td>2</td>\n",
       "      <td>0</td>\n",
       "      <td>0</td>\n",
       "      <td>1</td>\n",
       "      <td>41</td>\n",
       "      <td>0</td>\n",
       "      <td>1</td>\n",
       "      <td>0</td>\n",
       "      <td>0</td>\n",
       "      <td>0</td>\n",
       "      <td>...</td>\n",
       "      <td>0</td>\n",
       "      <td>0</td>\n",
       "      <td>0</td>\n",
       "      <td>0</td>\n",
       "      <td>0</td>\n",
       "      <td>0</td>\n",
       "      <td>0</td>\n",
       "      <td>0</td>\n",
       "      <td>0</td>\n",
       "      <td>0</td>\n",
       "    </tr>\n",
       "    <tr>\n",
       "      <th>1</th>\n",
       "      <td>2</td>\n",
       "      <td>0</td>\n",
       "      <td>10</td>\n",
       "      <td>3</td>\n",
       "      <td>59</td>\n",
       "      <td>0</td>\n",
       "      <td>18</td>\n",
       "      <td>0</td>\n",
       "      <td>0</td>\n",
       "      <td>0</td>\n",
       "      <td>...</td>\n",
       "      <td>0</td>\n",
       "      <td>3</td>\n",
       "      <td>0</td>\n",
       "      <td>0</td>\n",
       "      <td>0</td>\n",
       "      <td>0</td>\n",
       "      <td>0</td>\n",
       "      <td>1</td>\n",
       "      <td>1</td>\n",
       "      <td>2</td>\n",
       "    </tr>\n",
       "    <tr>\n",
       "      <th>2</th>\n",
       "      <td>0</td>\n",
       "      <td>0</td>\n",
       "      <td>20</td>\n",
       "      <td>2</td>\n",
       "      <td>11</td>\n",
       "      <td>5</td>\n",
       "      <td>13</td>\n",
       "      <td>2</td>\n",
       "      <td>0</td>\n",
       "      <td>1</td>\n",
       "      <td>...</td>\n",
       "      <td>0</td>\n",
       "      <td>0</td>\n",
       "      <td>0</td>\n",
       "      <td>0</td>\n",
       "      <td>0</td>\n",
       "      <td>0</td>\n",
       "      <td>0</td>\n",
       "      <td>0</td>\n",
       "      <td>1</td>\n",
       "      <td>0</td>\n",
       "    </tr>\n",
       "    <tr>\n",
       "      <th>3</th>\n",
       "      <td>2</td>\n",
       "      <td>1</td>\n",
       "      <td>30</td>\n",
       "      <td>2</td>\n",
       "      <td>44</td>\n",
       "      <td>1</td>\n",
       "      <td>16</td>\n",
       "      <td>0</td>\n",
       "      <td>0</td>\n",
       "      <td>0</td>\n",
       "      <td>...</td>\n",
       "      <td>0</td>\n",
       "      <td>3</td>\n",
       "      <td>0</td>\n",
       "      <td>0</td>\n",
       "      <td>0</td>\n",
       "      <td>0</td>\n",
       "      <td>0</td>\n",
       "      <td>1</td>\n",
       "      <td>1</td>\n",
       "      <td>0</td>\n",
       "    </tr>\n",
       "    <tr>\n",
       "      <th>4</th>\n",
       "      <td>2</td>\n",
       "      <td>1</td>\n",
       "      <td>40</td>\n",
       "      <td>1</td>\n",
       "      <td>51</td>\n",
       "      <td>0</td>\n",
       "      <td>8</td>\n",
       "      <td>0</td>\n",
       "      <td>0</td>\n",
       "      <td>0</td>\n",
       "      <td>...</td>\n",
       "      <td>0</td>\n",
       "      <td>2</td>\n",
       "      <td>0</td>\n",
       "      <td>0</td>\n",
       "      <td>0</td>\n",
       "      <td>0</td>\n",
       "      <td>0</td>\n",
       "      <td>1</td>\n",
       "      <td>1</td>\n",
       "      <td>0</td>\n",
       "    </tr>\n",
       "  </tbody>\n",
       "</table>\n",
       "<p>5 rows × 37 columns</p>\n",
       "</div>"
      ],
      "text/plain": [
       "   race  gender  age  days_in_hospital  num_lab_procedures  \\\n",
       "0     2       0    0                 1                  41   \n",
       "1     2       0   10                 3                  59   \n",
       "2     0       0   20                 2                  11   \n",
       "3     2       1   30                 2                  44   \n",
       "4     2       1   40                 1                  51   \n",
       "\n",
       "   num_not_lab_procedures  num_current_medications  \\\n",
       "0                       0                        1   \n",
       "1                       0                       18   \n",
       "2                       5                       13   \n",
       "3                       1                       16   \n",
       "4                       0                        8   \n",
       "\n",
       "   num_outpatient_appointments  num_previous_emergencies  \\\n",
       "0                            0                         0   \n",
       "1                            0                         0   \n",
       "2                            2                         0   \n",
       "3                            0                         0   \n",
       "4                            0                         0   \n",
       "\n",
       "   num_inpatient_overnight_stays  ...  citoglipton  insulin  \\\n",
       "0                              0  ...            0        0   \n",
       "1                              0  ...            0        3   \n",
       "2                              1  ...            0        0   \n",
       "3                              0  ...            0        3   \n",
       "4                              0  ...            0        2   \n",
       "\n",
       "   glyburide-metformin  glipizide-metformin  glimepiride-pioglitazone  \\\n",
       "0                    0                    0                         0   \n",
       "1                    0                    0                         0   \n",
       "2                    0                    0                         0   \n",
       "3                    0                    0                         0   \n",
       "4                    0                    0                         0   \n",
       "\n",
       "   metformin-rosiglitazone  metformin-pioglitazone  change_in_meds  \\\n",
       "0                        0                       0               0   \n",
       "1                        0                       0               1   \n",
       "2                        0                       0               0   \n",
       "3                        0                       0               1   \n",
       "4                        0                       0               1   \n",
       "\n",
       "   diabetes_med_prescribed  readmitted  \n",
       "0                        0           0  \n",
       "1                        1           2  \n",
       "2                        1           0  \n",
       "3                        1           0  \n",
       "4                        1           0  \n",
       "\n",
       "[5 rows x 37 columns]"
      ]
     },
     "execution_count": 15,
     "metadata": {},
     "output_type": "execute_result"
    }
   ],
   "source": [
    "#after\n",
    "df.head()"
   ]
  },
  {
   "cell_type": "code",
   "execution_count": null,
   "metadata": {},
   "outputs": [],
   "source": [
    "df.to_csv(\"cleaned_data_BN_v2.csv\")"
   ]
  },
  {
   "cell_type": "code",
   "execution_count": 16,
   "metadata": {},
   "outputs": [
    {
     "name": "stdout",
     "output_type": "stream",
     "text": [
      "(99492, 37)\n"
     ]
    }
   ],
   "source": [
    "#separating samples from labels\n",
    "samples = df.iloc[:,0:99492]\n",
    "labels = df['readmitted']\n",
    "print(samples.shape)"
   ]
  },
  {
   "cell_type": "code",
   "execution_count": 17,
   "metadata": {},
   "outputs": [
    {
     "name": "stdout",
     "output_type": "stream",
     "text": [
      "(29847, 37)\n",
      "(69645, 37)\n"
     ]
    }
   ],
   "source": [
    "# dividing df in test data and training data\n",
    "x_train, x_test, y_train, y_test = train_test_split(samples, labels, test_size=0.7, train_size= 0.3)\n",
    "print(x_train.shape)\n",
    "print(x_test.shape)"
   ]
  },
  {
   "cell_type": "code",
   "execution_count": 18,
   "metadata": {},
   "outputs": [],
   "source": [
    "# try and experiemnt with test size"
   ]
  },
  {
   "cell_type": "code",
   "execution_count": 19,
   "metadata": {},
   "outputs": [
    {
     "name": "stdout",
     "output_type": "stream",
     "text": [
      "[[0.5        0.         0.88888889 ... 0.         0.         0.        ]\n",
      " [0.5        0.         0.88888889 ... 0.         1.         1.        ]\n",
      " [0.5        1.         1.         ... 0.         1.         0.5       ]\n",
      " ...\n",
      " [0.         1.         0.66666667 ... 1.         1.         0.        ]\n",
      " [0.5        0.         0.77777778 ... 1.         1.         0.        ]\n",
      " [0.         0.         0.66666667 ... 1.         1.         0.5       ]]\n",
      "[[0.5        0.         0.66666667 ... 0.         1.         0.        ]\n",
      " [0.         0.         0.33333333 ... 0.         0.         1.        ]\n",
      " [0.         0.         0.88888889 ... 0.         1.         0.        ]\n",
      " ...\n",
      " [0.5        1.         0.66666667 ... 0.         0.         0.        ]\n",
      " [0.5        0.         0.77777778 ... 1.         1.         1.        ]\n",
      " [0.5        1.         0.66666667 ... 1.         1.         0.        ]]\n"
     ]
    },
    {
     "name": "stderr",
     "output_type": "stream",
     "text": [
      "/Users/zara/anaconda3/lib/python3.7/site-packages/sklearn/preprocessing/data.py:334: DataConversionWarning: Data with input dtype int64 were all converted to float64 by MinMaxScaler.\n",
      "  return self.partial_fit(X, y)\n"
     ]
    }
   ],
   "source": [
    "#normalisation\n",
    "\n",
    "#scaling\n",
    "scaler = preprocessing.MinMaxScaler()\n",
    "x_train_norm = scaler.fit_transform(x_train)\n",
    "\n",
    "#transforming\n",
    "x_test_norm = scaler.transform(x_test)\n",
    "print(x_train_norm)\n",
    "print(x_test_norm)"
   ]
  },
  {
   "cell_type": "code",
   "execution_count": 20,
   "metadata": {},
   "outputs": [
    {
     "name": "stdout",
     "output_type": "stream",
     "text": [
      "N neighbours 1\n",
      "Found vs Actual \n",
      "45904 69645\n",
      "Accuracy score 0.6591140785411731\n",
      "****************\n",
      "N neighbours 5\n",
      "Found vs Actual \n",
      "49369 69645\n",
      "Accuracy score 0.7088663938545481\n",
      "****************\n",
      "N neighbours 10\n",
      "Found vs Actual \n",
      "50387 69645\n",
      "Accuracy score 0.7234833799985642\n",
      "****************\n",
      "N neighbours 15\n",
      "Found vs Actual \n",
      "50377 69645\n",
      "Accuracy score 0.7233397946729844\n",
      "****************\n",
      "N neighbours 20\n",
      "Found vs Actual \n",
      "50033 69645\n",
      "Accuracy score 0.7184004594730419\n",
      "****************\n",
      "N neighbours 25\n",
      "Found vs Actual \n",
      "49688 69645\n",
      "Accuracy score 0.7134467657405413\n",
      "****************\n",
      "N neighbours 30\n",
      "Found vs Actual \n",
      "49389 69645\n",
      "Accuracy score 0.7091535645057075\n",
      "****************\n"
     ]
    }
   ],
   "source": [
    "#KNN modelling\n",
    "\n",
    "for n_neighbours in [1, 5, 10, 15, 20, 25, 30]:\n",
    "    knn = KNeighborsClassifier(n_neighbours)\n",
    "    knn.fit(x_train, y_train)\n",
    "    y_pred = knn.predict(x_test)\n",
    "    print(\"N neighbours \" + str(n_neighbours))\n",
    "    print(\"Found vs Actual \")\n",
    "    print(np.sum(y_test == y_pred), len(y_test))\n",
    "    print(\"Accuracy score \" + str(knn.score(x_test, y_test)))\n",
    "    print(\"****************\")\n",
    "#example above taken from lab7 file 5.0"
   ]
  },
  {
   "cell_type": "markdown",
   "metadata": {},
   "source": [
    "10 is the ideal number of neighbours, so we are finalising the model here"
   ]
  },
  {
   "cell_type": "code",
   "execution_count": 21,
   "metadata": {},
   "outputs": [
    {
     "data": {
      "text/plain": [
       "array([[36582,    13,   607],\n",
       "       [ 6401,    46,  1394],\n",
       "       [11792,    49, 12761]])"
      ]
     },
     "execution_count": 21,
     "metadata": {},
     "output_type": "execute_result"
    }
   ],
   "source": [
    "knn_2 = KNeighborsClassifier(n_neighbors=10)\n",
    "knn_2.fit(x_train, y_train)\n",
    "y_pred_2= knn.predict(x_test)\n",
    "metrics.confusion_matrix(y_test, y_pred_2)"
   ]
  },
  {
   "cell_type": "raw",
   "metadata": {},
   "source": [
    "plt.scatter(x_train.ravel(), y_train)\n",
    "plt.plot(x_test.ravel(), y_pred_2)"
   ]
  },
  {
   "cell_type": "code",
   "execution_count": 23,
   "metadata": {},
   "outputs": [
    {
     "data": {
      "text/plain": [
       "'              precision    recall  f1-score   support\\n\\n           0       0.67      0.98      0.80     37202\\n           1       0.43      0.01      0.01      7841\\n           2       0.86      0.52      0.65     24602\\n\\n   micro avg       0.71      0.71      0.71     69645\\n   macro avg       0.65      0.50      0.49     69645\\nweighted avg       0.71      0.71      0.66     69645\\n'"
      ]
     },
     "execution_count": 23,
     "metadata": {},
     "output_type": "execute_result"
    }
   ],
   "source": [
    "metrics.classification_report(y_test, y_pred_2)"
   ]
  },
  {
   "cell_type": "code",
   "execution_count": 24,
   "metadata": {},
   "outputs": [
    {
     "name": "stdout",
     "output_type": "stream",
     "text": [
      "0.7524424074297431\n",
      "0.745728299762795\n"
     ]
    }
   ],
   "source": [
    "#cross-validation\n",
    "x_train_2, x_test_2, y_train_2, y_test_2 = train_test_split(samples, labels, test_size=0.5, train_size= 0.5)\n",
    "print(KNeighborsClassifier(10).fit(x_train_2, y_train_2).score(x_test_2, y_test_2))\n",
    "print(KNeighborsClassifier(10).fit(x_test_2, y_test_2).score(x_train_2, y_train_2))"
   ]
  },
  {
   "cell_type": "code",
   "execution_count": 25,
   "metadata": {},
   "outputs": [
    {
     "data": {
      "text/plain": [
       "0.7762643672391528"
      ]
     },
     "execution_count": 25,
     "metadata": {},
     "output_type": "execute_result"
    }
   ],
   "source": [
    "cross_val = cross_val_score(KNeighborsClassifier(10), samples, labels, cv=10)\n",
    "cross_val.mean()"
   ]
  },
  {
   "cell_type": "code",
   "execution_count": 34,
   "metadata": {},
   "outputs": [
    {
     "data": {
      "image/png": "[encoded data removed]",
      "text/plain": [
       "<Figure size 432x288 with 1 Axes>"
      ]
     },
     "metadata": {
      "needs_background": "light"
     },
     "output_type": "display_data"
    }
   ],
   "source": [
    "vals_to_print = {1: 0.6591140785411731, 5:0.7088663938545481,\n",
    "        10: 0.7234833799985642,15: 0.7233397946729844,\n",
    "        20: 0.7184004594730419, 25: 0.7134467657405413,\n",
    "        30: 0.7091535645057075}\n",
    "\n",
    "sorted_vals = sorted(vals_to_print.items())\n",
    "\n",
    "neighbors, accuracy = zip(*sorted_vals) # unpack a list of pairs into two tuples\n",
    "\n",
    "plt.plot(neighbors, accuracy)\n",
    "\n",
    "plt.xlabel('K neighbor value')\n",
    "plt.ylabel('Accuracy')\n",
    "\n",
    "plt.show()\n",
    "#https://stackoverflow.com/questions/37266341/plotting-a-python-dict-in-order-of-key-values/37266356"
   ]
  },
  {
   "cell_type": "markdown",
   "metadata": {},
   "source": [
    "Sources used:\n",
    "- Sebastian Raschka, 2015. Python Machine Learning.\n",
    "- Validation and Model Selection notebook from week 7\n",
    "- https://www.kaggle.com/mayu0116/hyper-parameters-tuning-of-dtree-rf-svm-knn\n",
    "- https://www.ritchieng.com/machine-learning-efficiently-search-tuning-param/\n",
    "- https://stackabuse.com/cross-validation-and-grid-search-for-model-selection-in-python/\n",
    "- https://medium.com/30-days-of-machine-learning/day-3-k-nearest-neighbors-and-bias-variance-tradeoff-75f84d515bdb\n",
    "- #https://stackoverflow.com/questions/37266341/plotting-a-python-dict-in-order-of-key-values/37266356"
   ]
  },
  {
   "cell_type": "code",
   "execution_count": null,
   "metadata": {},
   "outputs": [],
   "source": []
  }
 ],
 "metadata": {
  "kernelspec": {
   "display_name": "Python 3",
   "language": "python",
   "name": "python3"
  },
  "language_info": {
   "codemirror_mode": {
    "name": "ipython",
    "version": 3
   },
   "file_extension": ".py",
   "mimetype": "text/x-python",
   "name": "python",
   "nbconvert_exporter": "python",
   "pygments_lexer": "ipython3",
   "version": "3.7.3"
  }
 },
 "nbformat": 4,
 "nbformat_minor": 2
}
