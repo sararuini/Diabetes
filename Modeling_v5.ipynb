{
 "cells": [
  {
   "cell_type": "code",
   "execution_count": 1,
   "metadata": {},
   "outputs": [],
   "source": [
    "#libraries needed\n",
    "import pandas as pd\n",
    "import numpy as np\n",
    "import matplotlib.pyplot as plt\n",
    "\n",
    "#scikit\n",
    "from sklearn.model_selection import train_test_split\n",
    "from sklearn.neighbors import KNeighborsClassifier\n",
    "from sklearn.model_selection import cross_val_score, GridSearchCV\n",
    "from sklearn import preprocessing\n",
    "from sklearn import metrics\n",
    "\n",
    "%matplotlib inline"
   ]
  },
  {
   "cell_type": "code",
   "execution_count": 2,
   "metadata": {},
   "outputs": [],
   "source": [
    "df = pd.read_csv(\"cleaned_data_v5.csv\", encoding=\"Latin-1\")"
   ]
  },
  {
   "cell_type": "code",
   "execution_count": 3,
   "metadata": {},
   "outputs": [
    {
     "data": {
      "text/plain": [
       "(99492, 38)"
      ]
     },
     "execution_count": 3,
     "metadata": {},
     "output_type": "execute_result"
    }
   ],
   "source": [
    "df.shape"
   ]
  },
  {
   "cell_type": "code",
   "execution_count": 4,
   "metadata": {},
   "outputs": [
    {
     "data": {
      "text/plain": [
       "Index(['Unnamed: 0', 'race', 'gender', 'age', 'days_in_hospital',\n",
       "       'num_lab_procedures', 'num_not_lab_procedures',\n",
       "       'num_current_medications', 'num_outpatient_appointments',\n",
       "       'num_previous_emergencies', 'num_inpatient_overnight_stays',\n",
       "       'number_diagnoses', 'metformin', 'repaglinide', 'nateglinide',\n",
       "       'chlorpropamide', 'glimepiride', 'acetohexamide', 'glipizide',\n",
       "       'glyburide', 'tolbutamide', 'pioglitazone', 'rosiglitazone', 'acarbose',\n",
       "       'miglitol', 'troglitazone', 'tolazamide', 'examide', 'citoglipton',\n",
       "       'insulin', 'glyburide-metformin', 'glipizide-metformin',\n",
       "       'glimepiride-pioglitazone', 'metformin-rosiglitazone',\n",
       "       'metformin-pioglitazone', 'change_in_meds', 'diabates_med_prescribed',\n",
       "       'readmitted'],\n",
       "      dtype='object')"
      ]
     },
     "execution_count": 4,
     "metadata": {},
     "output_type": "execute_result"
    }
   ],
   "source": [
    "df.columns"
   ]
  },
  {
   "cell_type": "code",
   "execution_count": 5,
   "metadata": {},
   "outputs": [],
   "source": [
    "df = df.drop(['Unnamed: 0'], axis=1)"
   ]
  },
  {
   "cell_type": "code",
   "execution_count": 6,
   "metadata": {},
   "outputs": [],
   "source": [
    "list_of_meds = ['metformin',\n",
    "       'repaglinide', 'nateglinide', 'chlorpropamide', 'glimepiride',\n",
    "       'acetohexamide', 'glipizide', 'glyburide', 'tolbutamide',\n",
    "       'pioglitazone', 'rosiglitazone', 'acarbose', 'miglitol', 'troglitazone',\n",
    "       'tolazamide', 'examide', 'citoglipton', 'insulin',\n",
    "       'glyburide-metformin', 'glipizide-metformin',\n",
    "       'glimepiride-pioglitazone', 'metformin-rosiglitazone',\n",
    "       'metformin-pioglitazone']\n",
    "\n",
    "# renaming values in medicines\n",
    "# change in dosage('dosage_increased', 'dosage_decreased') -> 1\n",
    "# no change or not prescribed 'not_prescribed', no_change_dosage -> 0\n",
    "new_values_meds = {\"dosage_increased\":3, \"dosage_decreased\":1 ,\"no_change_dosage\":2, \"not_prescribed\":0}\n",
    "for medicine in list_of_meds:\n",
    "    df[medicine] = df[medicine].replace(new_values_meds)"
   ]
  },
  {
   "cell_type": "code",
   "execution_count": 7,
   "metadata": {},
   "outputs": [],
   "source": [
    "# renaming 'readmitted'\n",
    "# readmitted ('>30', '<30') -> 1\n",
    "# not readmitted  ('NO') -> 0\n",
    "df.readmitted = df.readmitted.replace({'NO': 0, '>30': 2, '<30':1})"
   ]
  },
  {
   "cell_type": "code",
   "execution_count": 8,
   "metadata": {},
   "outputs": [],
   "source": [
    "# renaming 'diabetes_med_prescribed'\n",
    "# 'Yes' -> 1 \n",
    "# 'No' -> 0\n",
    "df = df.rename(columns={'diabates_med_prescribed': 'diabetes_med_prescribed'})\n",
    "df.diabetes_med_prescribed = df.diabetes_med_prescribed.replace({'Yes': 1, 'No':0})"
   ]
  },
  {
   "cell_type": "code",
   "execution_count": 9,
   "metadata": {},
   "outputs": [],
   "source": [
    "# renaming 'change_in_meds'\n",
    "# 'Ch' -> 1\n",
    "# 'No' -> 0\n",
    "df.change_in_meds = df.change_in_meds.replace({'Ch': 1, 'No': 0})"
   ]
  },
  {
   "cell_type": "code",
   "execution_count": 10,
   "metadata": {},
   "outputs": [],
   "source": [
    "#renaming 'age'\n",
    "#[70-80) -> 70\n",
    "#[60-70) -> 60\n",
    "#[50-60) -> 90\n",
    "#[80-90) -> 80\n",
    "#[40-50) -> 40\n",
    "#[30-40) -> 30\n",
    "#[90-100) -> 90\n",
    "#[20-30) -> 20\n",
    "#[10-20) -> 10\n",
    "#[0-10)-> 0\n",
    "age_mapping = {'[70-80)': 70, '[60-70)': 60, '[50-60)':90, '[80-90)':80, '[40-50)': 40, '[30-40)': 30,'[90-100)': 90, '[20-30)': 20, '[10-20)': 10, '[0-10)': 0}\n",
    "df.age = df.age.replace(age_mapping)"
   ]
  },
  {
   "cell_type": "code",
   "execution_count": 11,
   "metadata": {},
   "outputs": [
    {
     "name": "stdout",
     "output_type": "stream",
     "text": [
      "Caucasian          76099\n",
      "AfricanAmerican    19210\n",
      "Hispanic            2037\n",
      "Other               1505\n",
      "Asian                641\n",
      "Name: race, dtype: int64\n",
      "Female    53575\n",
      "Male      45917\n",
      "Name: gender, dtype: int64\n"
     ]
    }
   ],
   "source": [
    "#before\n",
    "print(df.race.value_counts())\n",
    "print(df.gender.value_counts())"
   ]
  },
  {
   "cell_type": "raw",
   "metadata": {},
   "source": [
    "Using LabelEncoder to change string values in order to not assign any numerical values to certain categorical values, where integers do not represent the categories appropriately."
   ]
  },
  {
   "cell_type": "code",
   "execution_count": 12,
   "metadata": {},
   "outputs": [
    {
     "data": {
      "text/html": [
       "<div>\n",
       "<style scoped>\n",
       "    .dataframe tbody tr th:only-of-type {\n",
       "        vertical-align: middle;\n",
       "    }\n",
       "\n",
       "    .dataframe tbody tr th {\n",
       "        vertical-align: top;\n",
       "    }\n",
       "\n",
       "    .dataframe thead th {\n",
       "        text-align: right;\n",
       "    }\n",
       "</style>\n",
       "<table border=\"1\" class=\"dataframe\">\n",
       "  <thead>\n",
       "    <tr style=\"text-align: right;\">\n",
       "      <th></th>\n",
       "      <th>race</th>\n",
       "      <th>gender</th>\n",
       "      <th>age</th>\n",
       "      <th>days_in_hospital</th>\n",
       "      <th>num_lab_procedures</th>\n",
       "      <th>num_not_lab_procedures</th>\n",
       "      <th>num_current_medications</th>\n",
       "      <th>num_outpatient_appointments</th>\n",
       "      <th>num_previous_emergencies</th>\n",
       "      <th>num_inpatient_overnight_stays</th>\n",
       "      <th>...</th>\n",
       "      <th>citoglipton</th>\n",
       "      <th>insulin</th>\n",
       "      <th>glyburide-metformin</th>\n",
       "      <th>glipizide-metformin</th>\n",
       "      <th>glimepiride-pioglitazone</th>\n",
       "      <th>metformin-rosiglitazone</th>\n",
       "      <th>metformin-pioglitazone</th>\n",
       "      <th>change_in_meds</th>\n",
       "      <th>diabetes_med_prescribed</th>\n",
       "      <th>readmitted</th>\n",
       "    </tr>\n",
       "  </thead>\n",
       "  <tbody>\n",
       "    <tr>\n",
       "      <th>0</th>\n",
       "      <td>Caucasian</td>\n",
       "      <td>Female</td>\n",
       "      <td>0</td>\n",
       "      <td>1</td>\n",
       "      <td>41</td>\n",
       "      <td>0</td>\n",
       "      <td>1</td>\n",
       "      <td>0</td>\n",
       "      <td>0</td>\n",
       "      <td>0</td>\n",
       "      <td>...</td>\n",
       "      <td>0</td>\n",
       "      <td>0</td>\n",
       "      <td>0</td>\n",
       "      <td>0</td>\n",
       "      <td>0</td>\n",
       "      <td>0</td>\n",
       "      <td>0</td>\n",
       "      <td>0</td>\n",
       "      <td>0</td>\n",
       "      <td>0</td>\n",
       "    </tr>\n",
       "    <tr>\n",
       "      <th>1</th>\n",
       "      <td>Caucasian</td>\n",
       "      <td>Female</td>\n",
       "      <td>10</td>\n",
       "      <td>3</td>\n",
       "      <td>59</td>\n",
       "      <td>0</td>\n",
       "      <td>18</td>\n",
       "      <td>0</td>\n",
       "      <td>0</td>\n",
       "      <td>0</td>\n",
       "      <td>...</td>\n",
       "      <td>0</td>\n",
       "      <td>3</td>\n",
       "      <td>0</td>\n",
       "      <td>0</td>\n",
       "      <td>0</td>\n",
       "      <td>0</td>\n",
       "      <td>0</td>\n",
       "      <td>1</td>\n",
       "      <td>1</td>\n",
       "      <td>2</td>\n",
       "    </tr>\n",
       "    <tr>\n",
       "      <th>2</th>\n",
       "      <td>AfricanAmerican</td>\n",
       "      <td>Female</td>\n",
       "      <td>20</td>\n",
       "      <td>2</td>\n",
       "      <td>11</td>\n",
       "      <td>5</td>\n",
       "      <td>13</td>\n",
       "      <td>2</td>\n",
       "      <td>0</td>\n",
       "      <td>1</td>\n",
       "      <td>...</td>\n",
       "      <td>0</td>\n",
       "      <td>0</td>\n",
       "      <td>0</td>\n",
       "      <td>0</td>\n",
       "      <td>0</td>\n",
       "      <td>0</td>\n",
       "      <td>0</td>\n",
       "      <td>0</td>\n",
       "      <td>1</td>\n",
       "      <td>0</td>\n",
       "    </tr>\n",
       "    <tr>\n",
       "      <th>3</th>\n",
       "      <td>Caucasian</td>\n",
       "      <td>Male</td>\n",
       "      <td>30</td>\n",
       "      <td>2</td>\n",
       "      <td>44</td>\n",
       "      <td>1</td>\n",
       "      <td>16</td>\n",
       "      <td>0</td>\n",
       "      <td>0</td>\n",
       "      <td>0</td>\n",
       "      <td>...</td>\n",
       "      <td>0</td>\n",
       "      <td>3</td>\n",
       "      <td>0</td>\n",
       "      <td>0</td>\n",
       "      <td>0</td>\n",
       "      <td>0</td>\n",
       "      <td>0</td>\n",
       "      <td>1</td>\n",
       "      <td>1</td>\n",
       "      <td>0</td>\n",
       "    </tr>\n",
       "    <tr>\n",
       "      <th>4</th>\n",
       "      <td>Caucasian</td>\n",
       "      <td>Male</td>\n",
       "      <td>40</td>\n",
       "      <td>1</td>\n",
       "      <td>51</td>\n",
       "      <td>0</td>\n",
       "      <td>8</td>\n",
       "      <td>0</td>\n",
       "      <td>0</td>\n",
       "      <td>0</td>\n",
       "      <td>...</td>\n",
       "      <td>0</td>\n",
       "      <td>2</td>\n",
       "      <td>0</td>\n",
       "      <td>0</td>\n",
       "      <td>0</td>\n",
       "      <td>0</td>\n",
       "      <td>0</td>\n",
       "      <td>1</td>\n",
       "      <td>1</td>\n",
       "      <td>0</td>\n",
       "    </tr>\n",
       "  </tbody>\n",
       "</table>\n",
       "<p>5 rows × 37 columns</p>\n",
       "</div>"
      ],
      "text/plain": [
       "              race  gender  age  days_in_hospital  num_lab_procedures  \\\n",
       "0        Caucasian  Female    0                 1                  41   \n",
       "1        Caucasian  Female   10                 3                  59   \n",
       "2  AfricanAmerican  Female   20                 2                  11   \n",
       "3        Caucasian    Male   30                 2                  44   \n",
       "4        Caucasian    Male   40                 1                  51   \n",
       "\n",
       "   num_not_lab_procedures  num_current_medications  \\\n",
       "0                       0                        1   \n",
       "1                       0                       18   \n",
       "2                       5                       13   \n",
       "3                       1                       16   \n",
       "4                       0                        8   \n",
       "\n",
       "   num_outpatient_appointments  num_previous_emergencies  \\\n",
       "0                            0                         0   \n",
       "1                            0                         0   \n",
       "2                            2                         0   \n",
       "3                            0                         0   \n",
       "4                            0                         0   \n",
       "\n",
       "   num_inpatient_overnight_stays  ...  citoglipton  insulin  \\\n",
       "0                              0  ...            0        0   \n",
       "1                              0  ...            0        3   \n",
       "2                              1  ...            0        0   \n",
       "3                              0  ...            0        3   \n",
       "4                              0  ...            0        2   \n",
       "\n",
       "   glyburide-metformin  glipizide-metformin  glimepiride-pioglitazone  \\\n",
       "0                    0                    0                         0   \n",
       "1                    0                    0                         0   \n",
       "2                    0                    0                         0   \n",
       "3                    0                    0                         0   \n",
       "4                    0                    0                         0   \n",
       "\n",
       "   metformin-rosiglitazone  metformin-pioglitazone  change_in_meds  \\\n",
       "0                        0                       0               0   \n",
       "1                        0                       0               1   \n",
       "2                        0                       0               0   \n",
       "3                        0                       0               1   \n",
       "4                        0                       0               1   \n",
       "\n",
       "   diabetes_med_prescribed  readmitted  \n",
       "0                        0           0  \n",
       "1                        1           2  \n",
       "2                        1           0  \n",
       "3                        1           0  \n",
       "4                        1           0  \n",
       "\n",
       "[5 rows x 37 columns]"
      ]
     },
     "execution_count": 12,
     "metadata": {},
     "output_type": "execute_result"
    }
   ],
   "source": [
    "#before\n",
    "df.head()"
   ]
  },
  {
   "cell_type": "code",
   "execution_count": 13,
   "metadata": {},
   "outputs": [],
   "source": [
    "x = df.columns.values\n",
    "le_gender = preprocessing.LabelEncoder()\n",
    "le_race = preprocessing.LabelEncoder()\n",
    "x_gender = le_gender.fit_transform(df.gender.values)\n",
    "x_race = le_race.fit_transform(df.race.values)\n",
    "df['gender'] = x_gender\n",
    "df['race'] = x_race"
   ]
  },
  {
   "cell_type": "code",
   "execution_count": null,
   "metadata": {},
   "outputs": [
    {
     "name": "stdout",
     "output_type": "stream",
     "text": [
      "0    53575\n",
      "1    45917\n",
      "Name: gender, dtype: int64\n",
      "2    76099\n",
      "0    19210\n",
      "3     2037\n",
      "4     1505\n",
      "1      641\n",
      "Name: race, dtype: int64\n"
     ]
    }
   ],
   "source": [
    "#after\n",
    "print(df.gender.value_counts())\n",
    "print(df.race.value_counts())"
   ]
  },
  {
   "cell_type": "markdown",
   "metadata": {},
   "source": [
    "We can deduct that:\n",
    "In race: Caucasian = 2, AfricanAmerican = 0, Hispanic = 3, Other = 4, 1 = Asian\n",
    "In gender: Female = 0, Male = 1"
   ]
  },
  {
   "cell_type": "code",
   "execution_count": null,
   "metadata": {},
   "outputs": [],
   "source": [
    "df.to_csv(\"cleaned_data_BN_v1.csv\")"
   ]
  },
  {
   "cell_type": "code",
   "execution_count": null,
   "metadata": {},
   "outputs": [
    {
     "data": {
      "text/html": [
       "<div>\n",
       "<style scoped>\n",
       "    .dataframe tbody tr th:only-of-type {\n",
       "        vertical-align: middle;\n",
       "    }\n",
       "\n",
       "    .dataframe tbody tr th {\n",
       "        vertical-align: top;\n",
       "    }\n",
       "\n",
       "    .dataframe thead th {\n",
       "        text-align: right;\n",
       "    }\n",
       "</style>\n",
       "<table border=\"1\" class=\"dataframe\">\n",
       "  <thead>\n",
       "    <tr style=\"text-align: right;\">\n",
       "      <th></th>\n",
       "      <th>race</th>\n",
       "      <th>gender</th>\n",
       "      <th>age</th>\n",
       "      <th>days_in_hospital</th>\n",
       "      <th>num_lab_procedures</th>\n",
       "      <th>num_not_lab_procedures</th>\n",
       "      <th>num_current_medications</th>\n",
       "      <th>num_outpatient_appointments</th>\n",
       "      <th>num_previous_emergencies</th>\n",
       "      <th>num_inpatient_overnight_stays</th>\n",
       "      <th>...</th>\n",
       "      <th>citoglipton</th>\n",
       "      <th>insulin</th>\n",
       "      <th>glyburide-metformin</th>\n",
       "      <th>glipizide-metformin</th>\n",
       "      <th>glimepiride-pioglitazone</th>\n",
       "      <th>metformin-rosiglitazone</th>\n",
       "      <th>metformin-pioglitazone</th>\n",
       "      <th>change_in_meds</th>\n",
       "      <th>diabetes_med_prescribed</th>\n",
       "      <th>readmitted</th>\n",
       "    </tr>\n",
       "  </thead>\n",
       "  <tbody>\n",
       "    <tr>\n",
       "      <th>0</th>\n",
       "      <td>2</td>\n",
       "      <td>0</td>\n",
       "      <td>0</td>\n",
       "      <td>1</td>\n",
       "      <td>41</td>\n",
       "      <td>0</td>\n",
       "      <td>1</td>\n",
       "      <td>0</td>\n",
       "      <td>0</td>\n",
       "      <td>0</td>\n",
       "      <td>...</td>\n",
       "      <td>0</td>\n",
       "      <td>0</td>\n",
       "      <td>0</td>\n",
       "      <td>0</td>\n",
       "      <td>0</td>\n",
       "      <td>0</td>\n",
       "      <td>0</td>\n",
       "      <td>0</td>\n",
       "      <td>0</td>\n",
       "      <td>0</td>\n",
       "    </tr>\n",
       "    <tr>\n",
       "      <th>1</th>\n",
       "      <td>2</td>\n",
       "      <td>0</td>\n",
       "      <td>10</td>\n",
       "      <td>3</td>\n",
       "      <td>59</td>\n",
       "      <td>0</td>\n",
       "      <td>18</td>\n",
       "      <td>0</td>\n",
       "      <td>0</td>\n",
       "      <td>0</td>\n",
       "      <td>...</td>\n",
       "      <td>0</td>\n",
       "      <td>3</td>\n",
       "      <td>0</td>\n",
       "      <td>0</td>\n",
       "      <td>0</td>\n",
       "      <td>0</td>\n",
       "      <td>0</td>\n",
       "      <td>1</td>\n",
       "      <td>1</td>\n",
       "      <td>2</td>\n",
       "    </tr>\n",
       "    <tr>\n",
       "      <th>2</th>\n",
       "      <td>0</td>\n",
       "      <td>0</td>\n",
       "      <td>20</td>\n",
       "      <td>2</td>\n",
       "      <td>11</td>\n",
       "      <td>5</td>\n",
       "      <td>13</td>\n",
       "      <td>2</td>\n",
       "      <td>0</td>\n",
       "      <td>1</td>\n",
       "      <td>...</td>\n",
       "      <td>0</td>\n",
       "      <td>0</td>\n",
       "      <td>0</td>\n",
       "      <td>0</td>\n",
       "      <td>0</td>\n",
       "      <td>0</td>\n",
       "      <td>0</td>\n",
       "      <td>0</td>\n",
       "      <td>1</td>\n",
       "      <td>0</td>\n",
       "    </tr>\n",
       "    <tr>\n",
       "      <th>3</th>\n",
       "      <td>2</td>\n",
       "      <td>1</td>\n",
       "      <td>30</td>\n",
       "      <td>2</td>\n",
       "      <td>44</td>\n",
       "      <td>1</td>\n",
       "      <td>16</td>\n",
       "      <td>0</td>\n",
       "      <td>0</td>\n",
       "      <td>0</td>\n",
       "      <td>...</td>\n",
       "      <td>0</td>\n",
       "      <td>3</td>\n",
       "      <td>0</td>\n",
       "      <td>0</td>\n",
       "      <td>0</td>\n",
       "      <td>0</td>\n",
       "      <td>0</td>\n",
       "      <td>1</td>\n",
       "      <td>1</td>\n",
       "      <td>0</td>\n",
       "    </tr>\n",
       "    <tr>\n",
       "      <th>4</th>\n",
       "      <td>2</td>\n",
       "      <td>1</td>\n",
       "      <td>40</td>\n",
       "      <td>1</td>\n",
       "      <td>51</td>\n",
       "      <td>0</td>\n",
       "      <td>8</td>\n",
       "      <td>0</td>\n",
       "      <td>0</td>\n",
       "      <td>0</td>\n",
       "      <td>...</td>\n",
       "      <td>0</td>\n",
       "      <td>2</td>\n",
       "      <td>0</td>\n",
       "      <td>0</td>\n",
       "      <td>0</td>\n",
       "      <td>0</td>\n",
       "      <td>0</td>\n",
       "      <td>1</td>\n",
       "      <td>1</td>\n",
       "      <td>0</td>\n",
       "    </tr>\n",
       "  </tbody>\n",
       "</table>\n",
       "<p>5 rows × 37 columns</p>\n",
       "</div>"
      ],
      "text/plain": [
       "   race  gender  age  days_in_hospital  num_lab_procedures  \\\n",
       "0     2       0    0                 1                  41   \n",
       "1     2       0   10                 3                  59   \n",
       "2     0       0   20                 2                  11   \n",
       "3     2       1   30                 2                  44   \n",
       "4     2       1   40                 1                  51   \n",
       "\n",
       "   num_not_lab_procedures  num_current_medications  \\\n",
       "0                       0                        1   \n",
       "1                       0                       18   \n",
       "2                       5                       13   \n",
       "3                       1                       16   \n",
       "4                       0                        8   \n",
       "\n",
       "   num_outpatient_appointments  num_previous_emergencies  \\\n",
       "0                            0                         0   \n",
       "1                            0                         0   \n",
       "2                            2                         0   \n",
       "3                            0                         0   \n",
       "4                            0                         0   \n",
       "\n",
       "   num_inpatient_overnight_stays  ...  citoglipton  insulin  \\\n",
       "0                              0  ...            0        0   \n",
       "1                              0  ...            0        3   \n",
       "2                              1  ...            0        0   \n",
       "3                              0  ...            0        3   \n",
       "4                              0  ...            0        2   \n",
       "\n",
       "   glyburide-metformin  glipizide-metformin  glimepiride-pioglitazone  \\\n",
       "0                    0                    0                         0   \n",
       "1                    0                    0                         0   \n",
       "2                    0                    0                         0   \n",
       "3                    0                    0                         0   \n",
       "4                    0                    0                         0   \n",
       "\n",
       "   metformin-rosiglitazone  metformin-pioglitazone  change_in_meds  \\\n",
       "0                        0                       0               0   \n",
       "1                        0                       0               1   \n",
       "2                        0                       0               0   \n",
       "3                        0                       0               1   \n",
       "4                        0                       0               1   \n",
       "\n",
       "   diabetes_med_prescribed  readmitted  \n",
       "0                        0           0  \n",
       "1                        1           2  \n",
       "2                        1           0  \n",
       "3                        1           0  \n",
       "4                        1           0  \n",
       "\n",
       "[5 rows x 37 columns]"
      ]
     },
     "execution_count": 16,
     "metadata": {},
     "output_type": "execute_result"
    }
   ],
   "source": [
    "#after\n",
    "df.head()"
   ]
  },
  {
   "cell_type": "markdown",
   "metadata": {},
   "source": [
    "Data Preprocessing"
   ]
  },
  {
   "cell_type": "code",
   "execution_count": null,
   "metadata": {},
   "outputs": [
    {
     "name": "stdout",
     "output_type": "stream",
     "text": [
      "(99492, 37)\n"
     ]
    }
   ],
   "source": [
    "#separating samples from labels\n",
    "samples = df.iloc[:,0:99492]\n",
    "labels = df['readmitted']\n",
    "print(samples.shape)"
   ]
  },
  {
   "cell_type": "code",
   "execution_count": null,
   "metadata": {},
   "outputs": [
    {
     "name": "stdout",
     "output_type": "stream",
     "text": [
      "(29847, 37)\n",
      "(69645, 37)\n"
     ]
    }
   ],
   "source": [
    "# dividing df in test data and training data\n",
    "x_train, x_test, y_train, y_test = train_test_split(samples, labels, test_size=0.7, train_size= 0.3, random_state=0)\n",
    "print(x_train.shape)\n",
    "print(x_test.shape)\n",
    "#https://stackabuse.com/cross-validation-and-grid-search-for-model-selection-in-python/"
   ]
  },
  {
   "cell_type": "markdown",
   "metadata": {},
   "source": [
    "Data Scaling and Normalisation"
   ]
  },
  {
   "cell_type": "code",
   "execution_count": null,
   "metadata": {},
   "outputs": [
    {
     "name": "stdout",
     "output_type": "stream",
     "text": [
      "[[0.5        0.         0.33333333 ... 0.         1.         0.        ]\n",
      " [0.5        0.         0.66666667 ... 0.         1.         0.        ]\n",
      " [0.         0.         0.77777778 ... 0.         0.         1.        ]\n",
      " ...\n",
      " [0.         1.         0.44444444 ... 0.         1.         0.        ]\n",
      " [0.5        1.         0.66666667 ... 1.         1.         0.        ]\n",
      " [0.5        1.         0.66666667 ... 0.         1.         0.        ]]\n",
      "[[0.5        0.         0.44444444 ... 1.         1.         1.        ]\n",
      " [0.         1.         0.77777778 ... 1.         1.         0.        ]\n",
      " [1.         1.         0.66666667 ... 0.         1.         0.        ]\n",
      " ...\n",
      " [0.5        0.         1.         ... 1.         1.         0.        ]\n",
      " [0.5        0.         0.77777778 ... 1.         1.         0.        ]\n",
      " [0.         1.         0.66666667 ... 0.         1.         1.        ]]\n"
     ]
    },
    {
     "name": "stderr",
     "output_type": "stream",
     "text": [
      "/Users/zara/anaconda3/lib/python3.7/site-packages/sklearn/preprocessing/data.py:334: DataConversionWarning: Data with input dtype int64 were all converted to float64 by MinMaxScaler.\n",
      "  return self.partial_fit(X, y)\n"
     ]
    }
   ],
   "source": [
    "#normalisation\n",
    "\n",
    "#scaling\n",
    "scaler = preprocessing.MinMaxScaler()\n",
    "x_train_norm = scaler.fit_transform(x_train)\n",
    "\n",
    "#transforming\n",
    "x_test_norm = scaler.transform(x_test)\n",
    "print(x_train_norm)\n",
    "print(x_test_norm)"
   ]
  },
  {
   "cell_type": "markdown",
   "metadata": {},
   "source": [
    "Data Modelling"
   ]
  },
  {
   "cell_type": "code",
   "execution_count": null,
   "metadata": {},
   "outputs": [],
   "source": [
    "#KNN modelling\n",
    "knn = KNeighborsClassifier()\n",
    "\n",
    "#Choosing Hyper Parameters\n",
    "\n",
    "#Hyper Parameters Set\n",
    "parameters = {'n_neighbors':[1, 5, 10, 15, 20, 25, 30],\n",
    "          'leaf_size':[1, 5, 10, 20, 30],\n",
    "          'weights':['uniform', 'distance'],\n",
    "          'algorithm':['ball_tree','kd_tree','brute']}\n",
    "\n",
    "#Making models with hyper parameters sets\n",
    "grid = GridSearchCV(knn, param_grid=parameters, scoring='accuracy', n_jobs=5)\n",
    "#Sources used: \n",
    "# https://www.kaggle.com/mayu0116/hyper-parameters-tuning-of-dtree-rf-svm-knn\n",
    "# https://stackabuse.com/cross-validation-and-grid-search-for-model-selection-in-python/"
   ]
  },
  {
   "cell_type": "code",
   "execution_count": null,
   "metadata": {},
   "outputs": [
    {
     "name": "stderr",
     "output_type": "stream",
     "text": [
      "/Users/zara/anaconda3/lib/python3.7/site-packages/sklearn/model_selection/_split.py:2053: FutureWarning: You should specify a value for 'cv' instead of relying on the default value. The default value will change from 3 to 5 in version 0.22.\n",
      "  warnings.warn(CV_WARNING, FutureWarning)\n"
     ]
    }
   ],
   "source": [
    "\n",
    "#Learning\n",
    "grid.fit(x_train, y_train)\n",
    "\n",
    "#Selection of best hyperparameters\n",
    "print(\"Selected parameters\")\n",
    "print(grid.best_params_)\n",
    "\n",
    "#Sources used:\n",
    "# https://www.kaggle.com/mayu0116/hyper-parameters-tuning-of-dtree-rf-svm-knn\n",
    "# https://www.ritchieng.com/machine-learning-efficiently-search-tuning-param/"
   ]
  },
  {
   "cell_type": "code",
   "execution_count": null,
   "metadata": {},
   "outputs": [],
   "source": [
    "\n",
    "#Prediction\n",
    "y_prediction = grid.predict(x_test)\n",
    "\n",
    "#accuracy score\n",
    "print(\"Accuracy score: \")\n",
    "print(metrics.accuracy_score(y_test, y_prediction))\n",
    "\n",
    "#Confusion matrix\n",
    "print(\"Confusion matrix: \")\n",
    "metrics.confusion_matrix(y_test, y_prediction)\n",
    "\n",
    "#classification report\n",
    "print(\"Classification report: \")\n",
    "metrics.classification_report(y_test, y_prediction)\n",
    "\n",
    "#Source used: https://www.kaggle.com/mayu0116/hyper-parameters-tuning-of-dtree-rf-svm-knn"
   ]
  },
  {
   "cell_type": "code",
   "execution_count": null,
   "metadata": {},
   "outputs": [],
   "source": [
    "#printing mean scores\n",
    "scores = grid.grid_scores_\n",
    "neighbor_range = [1, 5, 10, 15, 20, 25, 30] #same as n_neighbours in parameters\n",
    "grid_means = [result.mean_validation_score for result in scores]\n",
    "print(grid_mean_scores)\n",
    "\n",
    "#Source used: # https://www.ritchieng.com/machine-learning-efficiently-search-tuning-param/"
   ]
  },
  {
   "cell_type": "code",
   "execution_count": null,
   "metadata": {},
   "outputs": [],
   "source": [
    "plt.plot(neighbor_range, grid_means)\n",
    "plt.xlabel('K neighbor value')\n",
    "plt.ylabel('Cross-Validated Accuracy')"
   ]
  },
  {
   "cell_type": "code",
   "execution_count": null,
   "metadata": {},
   "outputs": [],
   "source": [
    "cross_val = cross_val_score(grid, samples, labels, test_size=0.5, train_size=0.5, scoring='accuracy')\n",
    "print(cross_val.mean())\n",
    "#Source used: https://www.ritchieng.com/machine-learning-efficiently-search-tuning-param/"
   ]
  },
  {
   "cell_type": "markdown",
   "metadata": {},
   "source": [
    "Sources used:\n",
    "- Sebastian Raschka, 2015. Python Machine Learning.\n",
    "- Validation and Model Selection notebook from week 7\n",
    "- https://www.kaggle.com/mayu0116/hyper-parameters-tuning-of-dtree-rf-svm-knn\n",
    "- https://www.ritchieng.com/machine-learning-efficiently-search-tuning-param/\n",
    "- https://stackabuse.com/cross-validation-and-grid-search-for-model-selection-in-python/\n",
    "- https://medium.com/30-days-of-machine-learning/day-3-k-nearest-neighbors-and-bias-variance-tradeoff-75f84d515bdb\n"
   ]
  }
 ],
 "metadata": {
  "kernelspec": {
   "display_name": "Python 3",
   "language": "python",
   "name": "python3"
  },
  "language_info": {
   "codemirror_mode": {
    "name": "ipython",
    "version": 3
   },
   "file_extension": ".py",
   "mimetype": "text/x-python",
   "name": "python",
   "nbconvert_exporter": "python",
   "pygments_lexer": "ipython3",
   "version": "3.7.3"
  }
 },
 "nbformat": 4,
 "nbformat_minor": 2
}
